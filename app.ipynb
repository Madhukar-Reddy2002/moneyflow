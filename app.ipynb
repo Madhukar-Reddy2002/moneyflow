{
 "cells": [
  {
   "cell_type": "code",
   "execution_count": 2,
   "metadata": {},
   "outputs": [],
   "source": [
    "import PyPDF2\n",
    "import pdfplumber"
   ]
  },
  {
   "cell_type": "code",
   "execution_count": 35,
   "metadata": {},
   "outputs": [
    {
     "ename": "IndexError",
     "evalue": "sequence index out of range",
     "output_type": "error",
     "traceback": [
      "\u001b[1;31m---------------------------------------------------------------------------\u001b[0m",
      "\u001b[1;31mIndexError\u001b[0m                                Traceback (most recent call last)",
      "Cell \u001b[1;32mIn[35], line 23\u001b[0m\n\u001b[0;32m     20\u001b[0m pdf_file_path \u001b[38;5;241m=\u001b[39m \u001b[38;5;124m'\u001b[39m\u001b[38;5;124mloki.pdf\u001b[39m\u001b[38;5;124m'\u001b[39m\n\u001b[0;32m     22\u001b[0m \u001b[38;5;66;03m# Extract text from the first page without emojis\u001b[39;00m\n\u001b[1;32m---> 23\u001b[0m first_page_text_without_emojis \u001b[38;5;241m=\u001b[39m \u001b[43mextract_text_without_emojis\u001b[49m\u001b[43m(\u001b[49m\u001b[43mpdf_file_path\u001b[49m\u001b[43m,\u001b[49m\u001b[43m \u001b[49m\u001b[38;5;241;43m5\u001b[39;49m\u001b[43m)\u001b[49m\n\u001b[0;32m     25\u001b[0m \u001b[38;5;28mprint\u001b[39m(first_page_text_without_emojis)\n",
      "Cell \u001b[1;32mIn[35], line 9\u001b[0m, in \u001b[0;36mextract_text_without_emojis\u001b[1;34m(pdf_file_path, page_number)\u001b[0m\n\u001b[0;32m      6\u001b[0m pdf_reader \u001b[38;5;241m=\u001b[39m PyPDF2\u001b[38;5;241m.\u001b[39mPdfReader(pdf_file)\n\u001b[0;32m      8\u001b[0m \u001b[38;5;66;03m# Get the specified page\u001b[39;00m\n\u001b[1;32m----> 9\u001b[0m page \u001b[38;5;241m=\u001b[39m \u001b[43mpdf_reader\u001b[49m\u001b[38;5;241;43m.\u001b[39;49m\u001b[43mpages\u001b[49m\u001b[43m[\u001b[49m\u001b[43mpage_number\u001b[49m\u001b[43m]\u001b[49m\n\u001b[0;32m     11\u001b[0m \u001b[38;5;66;03m# Extract text from the specified page\u001b[39;00m\n\u001b[0;32m     12\u001b[0m page_text \u001b[38;5;241m=\u001b[39m page\u001b[38;5;241m.\u001b[39mextract_text()\n",
      "File \u001b[1;32m~\\AppData\\Roaming\\Python\\Python312\\site-packages\\PyPDF2\\_page.py:2077\u001b[0m, in \u001b[0;36m_VirtualList.__getitem__\u001b[1;34m(self, index)\u001b[0m\n\u001b[0;32m   2075\u001b[0m     index \u001b[38;5;241m=\u001b[39m len_self \u001b[38;5;241m+\u001b[39m index\n\u001b[0;32m   2076\u001b[0m \u001b[38;5;28;01mif\u001b[39;00m index \u001b[38;5;241m<\u001b[39m \u001b[38;5;241m0\u001b[39m \u001b[38;5;129;01mor\u001b[39;00m index \u001b[38;5;241m>\u001b[39m\u001b[38;5;241m=\u001b[39m len_self:\n\u001b[1;32m-> 2077\u001b[0m     \u001b[38;5;28;01mraise\u001b[39;00m \u001b[38;5;167;01mIndexError\u001b[39;00m(\u001b[38;5;124m\"\u001b[39m\u001b[38;5;124msequence index out of range\u001b[39m\u001b[38;5;124m\"\u001b[39m)\n\u001b[0;32m   2078\u001b[0m \u001b[38;5;28;01mreturn\u001b[39;00m \u001b[38;5;28mself\u001b[39m\u001b[38;5;241m.\u001b[39mget_function(index)\n",
      "\u001b[1;31mIndexError\u001b[0m: sequence index out of range"
     ]
    }
   ],
   "source": [
    "import PyPDF2\n",
    "import re\n",
    "\n",
    "def extract_text_without_emojis(pdf_file_path, page_number):\n",
    "    with open(pdf_file_path, 'rb') as pdf_file:\n",
    "        pdf_reader = PyPDF2.PdfReader(pdf_file)\n",
    "\n",
    "        # Get the specified page\n",
    "        page = pdf_reader.pages[page_number]\n",
    "\n",
    "        # Extract text from the specified page\n",
    "        page_text = page.extract_text()\n",
    "\n",
    "        # Remove emojis using regex\n",
    "        clean_text = re.sub(r'[^\\x00-\\x7F]+', '', page_text)\n",
    "\n",
    "    return clean_text\n",
    "\n",
    "# Path to the PDF file\n",
    "pdf_file_path = 'loki.pdf'\n",
    "\n",
    "# Extract text from the first page without emojis\n",
    "first_page_text_without_emojis = extract_text_without_emojis(pdf_file_path, 5)\n",
    "\n",
    "print(first_page_text_without_emojis)"
   ]
  },
  {
   "cell_type": "code",
   "execution_count": 27,
   "metadata": {},
   "outputs": [
    {
     "data": {
      "text/plain": [
       "'Date\\nDate\\nTransaction Details\\nTransaction Details\\nType\\nType\\nAmount\\nAmount\\nApr 04, 2024\\nApr 04, 2024\\n09:37 AM\\n09:37 AM\\nDEBIT\\nDEBIT\\n\\n\\n20\\n20\\nPaid to Talk of the town\\nPaid to Talk of the town\\nTransaction ID T2404040937545328345356\\nTransaction ID T2404040937545328345356\\nUTR No. 446131225615\\nUTR No. 446131225615\\nPaid by\\nPaid by\\nXXXXXX7510\\nXXXXXX7510\\nApr 03, 2024\\nApr 03, 2024\\n01:41 PM\\n01:41 PM\\nDEBIT\\nDEBIT\\n\\n\\n70\\n70\\nPaid to New AK Fast Food\\nPaid to New AK Fast Food\\nTransaction ID T2404031341060586340454\\nTransaction ID T2404031341060586340454\\nUTR No. 446063320362\\nUTR No. 446063320362\\nPaid by\\nPaid by\\nXXXXXX7510\\nXXXXXX7510\\n\\n\\n 45\\n 45\\nWallet\\nWallet\\n\\n\\n 25\\n 25\\nApr 03, 2024\\nApr 03, 2024\\n01:11 PM\\n01:11 PM\\nDEBIT\\nDEBIT\\n\\n\\n10\\n10\\nPaid to Vanshika kryana store\\nPaid to Vanshika kryana store\\nTransaction ID T2404031311375657849136\\nTransaction ID T2404031311375657849136\\nUTR No. 446054426815\\nUTR No. 446054426815\\nPaid by\\nPaid by\\nXXXXXX7510\\nXXXXXX7510\\nApr 02, 2024\\nApr 02, 2024\\n08:40 PM\\n08:40 PM\\nDEBIT\\nDEBIT\\n\\n\\n70\\n70\\nPaid to Annu Restaurant\\nPaid to Annu Restaurant\\nTransaction ID T2404022040011351580908\\nTransaction ID T2404022040011351580908\\nUTR No. 445940802815\\nUTR No. 445940802815\\nPaid by\\nPaid by\\nXXXXXX7510\\nXXXXXX7510\\nApr 02, 2024\\nApr 02, 2024\\n01:48 PM\\n01:48 PM\\nDEBIT\\nDEBIT\\n\\n\\n70\\n70\\nPaid to New AK Fast Food\\nPaid to New AK Fast Food\\nTransaction ID T2404021348502880205490\\nTransaction ID T2404021348502880205490\\nUTR No. 445994029699\\nUTR No. 445994029699\\nPaid by\\nPaid by\\nXXXXXX7510\\nXXXXXX7510\\nApr 02, 2024\\nApr 02, 2024\\n01:13 PM\\n01:13 PM\\nDEBIT\\nDEBIT\\n\\n\\n10\\n10\\nPaid to Vanshika kryana store\\nPaid to Vanshika kryana store\\nTransaction ID T2404021313183202170430\\nTransaction ID T2404021313183202170430\\nUTR No. 445901858960\\nUTR No. 445901858960\\nPaid by\\nPaid by\\nXXXXXX7510\\nXXXXXX7510\\nApr 02, 2024\\nApr 02, 2024\\n08:05 AM\\n08:05 AM\\nDEBIT\\nDEBIT\\n\\n\\n20,000\\n20,000\\nPaid to Hari Babu\\nPaid to Hari Babu\\nTransaction ID T2404020805508162493968\\nTransaction ID T2404020805508162493968\\nUTR No. 445980950933\\nUTR No. 445980950933\\nPaid by\\nPaid by\\nXXXXXX7510\\nXXXXXX7510\\nPage 6 of 15\\nPage 6 of 15\\nThis is a system generated statement. For any queries, contact us at\\nThis is a system generated statement. For any queries, contact us at\\nhttps://support.phonepe.com/statement.\\nhttps://support.phonepe.com/statement.'"
      ]
     },
     "execution_count": 27,
     "metadata": {},
     "output_type": "execute_result"
    }
   ],
   "source": [
    "first_page_text_without_emojis"
   ]
  },
  {
   "cell_type": "code",
   "execution_count": 28,
   "metadata": {},
   "outputs": [
    {
     "data": {
      "text/plain": [
       "['Date',\n",
       " 'Date',\n",
       " 'Transaction Details',\n",
       " 'Transaction Details',\n",
       " 'Type',\n",
       " 'Type',\n",
       " 'Amount',\n",
       " 'Amount',\n",
       " 'Apr 04, 2024',\n",
       " 'Apr 04, 2024']"
      ]
     },
     "execution_count": 28,
     "metadata": {},
     "output_type": "execute_result"
    }
   ],
   "source": [
    "li = first_page_text_without_emojis.split('\\n')\n",
    "li[:10]"
   ]
  },
  {
   "cell_type": "code",
   "execution_count": 29,
   "metadata": {},
   "outputs": [],
   "source": [
    "li2=[]\n",
    "for i, x in enumerate(li) :\n",
    "    li2.append(x)\n",
    "text =(\" \").join(li2)"
   ]
  },
  {
   "cell_type": "code",
   "execution_count": 30,
   "metadata": {},
   "outputs": [
    {
     "name": "stdout",
     "output_type": "stream",
     "text": [
      "Apr 04, 2024 Apr 04, 2024 09:37 AM 09:37 AM DEBIT DEBIT   20 20 Paid to Talk of the town Paid to Talk of the town \n",
      "Apr 03, 2024 Apr 03, 2024 01:41 PM 01:41 PM DEBIT DEBIT   70 70 Paid to New AK Fast Food Paid to New AK Fast Food \n",
      "Apr 03, 2024 Apr 03, 2024 01:11 PM 01:11 PM DEBIT DEBIT   10 10 Paid to Vanshika kryana store Paid to Vanshika kryana store \n",
      "Apr 02, 2024 Apr 02, 2024 08:40 PM 08:40 PM DEBIT DEBIT   70 70 Paid to Annu Restaurant Paid to Annu Restaurant \n",
      "Apr 02, 2024 Apr 02, 2024 01:48 PM 01:48 PM DEBIT DEBIT   70 70 Paid to New AK Fast Food Paid to New AK Fast Food \n",
      "Apr 02, 2024 Apr 02, 2024 01:13 PM 01:13 PM DEBIT DEBIT   10 10 Paid to Vanshika kryana store Paid to Vanshika kryana store \n",
      "Apr 02, 2024 Apr 02, 2024 08:05 AM 08:05 AM DEBIT DEBIT   20,000 20,000 Paid to Hari Babu Paid to Hari Babu \n"
     ]
    }
   ],
   "source": [
    "import re\n",
    "\n",
    "# Regular expression pattern to match from month name up to \"Transaction ID\"\n",
    "pattern = r\"(\\b(?:Jan|Feb|Mar|Apr|May|Jun|Jul|Aug|Sep|Oct|Nov|Dec)\\b.*?)(?=Transaction\\sID)\"\n",
    "\n",
    "# Find all matches\n",
    "matches = re.findall(pattern, text)\n",
    "\n",
    "# Print all matches\n",
    "for match in matches:\n",
    "    print(match)"
   ]
  },
  {
   "cell_type": "code",
   "execution_count": 32,
   "metadata": {},
   "outputs": [
    {
     "data": {
      "text/plain": [
       "str"
      ]
     },
     "execution_count": 32,
     "metadata": {},
     "output_type": "execute_result"
    }
   ],
   "source": [
    "type(matches[0])"
   ]
  },
  {
   "cell_type": "code",
   "execution_count": 33,
   "metadata": {},
   "outputs": [],
   "source": [
    "import re\n",
    "\n",
    "# Sample list of transaction strings\n",
    "\n",
    "\n",
    "# Regex pattern to match necessary components\n",
    "pattern = r\"(\\bJan|Feb|Mar|Apr|May|Jun|Jul|Aug|Sep|Oct|Nov|Dec)\\s(\\d{1,2}),\\s(\\d{4})\\s(\\d{2}:\\d{2}\\s(?:AM|PM))\\s(DEBIT|CREDIT)\\s(\\d+,\\d+|\\d+)\\s(Paid to|Received from)(.*)\"\n",
    "\n",
    "# Process each transaction in the list\n",
    "extracted_data = []\n",
    "for transaction in matches:\n",
    "    match = re.match(pattern, transaction)\n",
    "    if match:\n",
    "        data = {\n",
    "            \"Month\": match.group(1),\n",
    "            \"Date\": match.group(2),\n",
    "            \"Year\": match.group(3),\n",
    "            \"Time\": match.group(4),\n",
    "            \"Type\": match.group(5),\n",
    "            \"Amount\": match.group(6),\n",
    "            \"Transaction\": match.group(7),\n",
    "            \"Payee\": match.group(8).strip()\n",
    "        }\n",
    "        extracted_data.append(data)\n",
    "\n",
    "# Print the results\n",
    "for data in extracted_data:\n",
    "    print(data)"
   ]
  },
  {
   "cell_type": "code",
   "execution_count": 25,
   "metadata": {},
   "outputs": [
    {
     "data": {
      "text/html": [
       "<div>\n",
       "<style scoped>\n",
       "    .dataframe tbody tr th:only-of-type {\n",
       "        vertical-align: middle;\n",
       "    }\n",
       "\n",
       "    .dataframe tbody tr th {\n",
       "        vertical-align: top;\n",
       "    }\n",
       "\n",
       "    .dataframe thead th {\n",
       "        text-align: right;\n",
       "    }\n",
       "</style>\n",
       "<table border=\"1\" class=\"dataframe\">\n",
       "  <thead>\n",
       "    <tr style=\"text-align: right;\">\n",
       "      <th></th>\n",
       "    </tr>\n",
       "  </thead>\n",
       "  <tbody>\n",
       "  </tbody>\n",
       "</table>\n",
       "</div>"
      ],
      "text/plain": [
       "Empty DataFrame\n",
       "Columns: []\n",
       "Index: []"
      ]
     },
     "execution_count": 25,
     "metadata": {},
     "output_type": "execute_result"
    }
   ],
   "source": [
    "import pandas as pd\n",
    "# Create DataFrame\n",
    "df = pd.DataFrame(transactions)\n",
    "df"
   ]
  },
  {
   "cell_type": "code",
   "execution_count": null,
   "metadata": {},
   "outputs": [],
   "source": []
  }
 ],
 "metadata": {
  "kernelspec": {
   "display_name": "Python 3",
   "language": "python",
   "name": "python3"
  },
  "language_info": {
   "codemirror_mode": {
    "name": "ipython",
    "version": 3
   },
   "file_extension": ".py",
   "mimetype": "text/x-python",
   "name": "python",
   "nbconvert_exporter": "python",
   "pygments_lexer": "ipython3",
   "version": "3.12.2"
  }
 },
 "nbformat": 4,
 "nbformat_minor": 2
}
